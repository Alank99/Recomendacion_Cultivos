{
 "cells": [
  {
   "cell_type": "code",
   "execution_count": null,
   "id": "b728a0a9",
   "metadata": {},
   "outputs": [],
   "source": [
    "! pip install torch torchvision \n",
    "! pip install torch\n",
    "! pip install matplotlib"
   ]
  },
  {
   "cell_type": "code",
   "execution_count": null,
   "id": "f0dc1964",
   "metadata": {},
   "outputs": [],
   "source": [
    "#Importamos las librerias necesarias\n",
    "import os\n",
    "import torch\n",
    "from torch import optim, nn, utils, Tensor\n",
    "#cuda\n",
    "import torch.cuda"
   ]
  },
  {
   "cell_type": "markdown",
   "id": "82e34189",
   "metadata": {},
   "source": [
    "cosas por hacer \n",
    " el análisis de un dataset y el entrenamiento de un modelo para la recomendación de cultivos a sembrar según la composición de un terreno y las condiciones climáticas del área.\n",
    "\n",
    " preprocesar el dataset segun sea lo necesario\n",
    "    -podria se aqui mas como sacar bien los rangos de cada parametro segun la etiqueta\n",
    "    -ademas de ver datos que esten fuera de la distribucion y matarlos para que no genere tanto ruido\n",
    "    -ver como varia los datos entre cada labe pudiendo tener un minimo y un maximo\n",
    "    -usar histogramas con pandas y regularizar datos\n",
    "\n",
    " para el entrenamiento \n",
    "\n",
    "1. Considerando el dataset anterior, implemente un bucle de entrenamiento de la tarea correspondiente.\n",
    "\n",
    "2. Al terminar el entrenamiento del bucle, debe tener una función en la cual se le pase un vector de datos y retorne la inferencia correspondiente.\n",
    "\n",
    "3. El bucle debe mostrar las curvas de las funciones de cost para entrenamiento y validación, así como las métricas relevantes.\n",
    "\n",
    "4. A su vez, realizar comparaciones entre desempeño usando al menos tres arquitecturas de modelos distintas.\n",
    "-podria ser usar softmax para sacar probabilidades\n",
    "-\n",
    "\n"
   ]
  }
 ],
 "metadata": {
  "kernelspec": {
   "display_name": "Python 3",
   "language": "python",
   "name": "python3"
  },
  "language_info": {
   "codemirror_mode": {
    "name": "ipython",
    "version": 3
   },
   "file_extension": ".py",
   "mimetype": "text/x-python",
   "name": "python",
   "nbconvert_exporter": "python",
   "pygments_lexer": "ipython3",
   "version": "3.10.10"
  }
 },
 "nbformat": 4,
 "nbformat_minor": 5
}
