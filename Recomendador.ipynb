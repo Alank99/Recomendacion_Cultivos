{
 "cells": [
  {
   "cell_type": "code",
   "execution_count": null,
   "id": "b728a0a9",
   "metadata": {},
   "outputs": [],
   "source": [
    "! pip install torch torchvision \n",
    "! pip install torch\n",
    "! pip install matplotlib"
   ]
  },
  {
   "cell_type": "code",
   "execution_count": null,
   "id": "24f71e19",
   "metadata": {},
   "outputs": [],
   "source": []
  },
  {
   "cell_type": "code",
   "execution_count": null,
   "id": "f0dc1964",
   "metadata": {},
   "outputs": [],
   "source": [
    "#Importamos las librerias necesarias\n",
    "import os\n",
    "import torch\n",
    "from torch import optim, nn, utils, Tensor\n",
    "#cuda\n",
    "import torch.cuda"
   ]
  }
 ],
 "metadata": {
  "kernelspec": {
   "display_name": "Python 3",
   "language": "python",
   "name": "python3"
  },
  "language_info": {
   "codemirror_mode": {
    "name": "ipython",
    "version": 3
   },
   "file_extension": ".py",
   "mimetype": "text/x-python",
   "name": "python",
   "nbconvert_exporter": "python",
   "pygments_lexer": "ipython3",
   "version": "3.10.10"
  }
 },
 "nbformat": 4,
 "nbformat_minor": 5
}
